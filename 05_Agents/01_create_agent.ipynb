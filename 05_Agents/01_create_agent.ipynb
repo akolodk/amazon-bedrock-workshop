{
  "cells": [
    {
      "cell_type": "markdown",
      "metadata": {
        "pycharm": {
          "name": "#%% md\n"
        },
        "id": "9VjtZ5mrHEcn"
      },
      "source": [
        "# Agents for Amazon Bedrock - create agent\n",
        "\n",
        "This notebook provides sample code for building an Agent for Amazon Bedrock that has an Action Group attached to it.\n",
        "\n",
        "### Use Case\n",
        "We will create a restaurant assistant that allows customers to create, delete or get reservation information. The architecture looks as following:\n",
        "\n",
        "![Agent Architecture](https://github.com/akolodk/amazon-bedrock-workshop/blob/main/05_Agents/images/agent-architecture_1.png?raw=1)\n",
        "\n",
        "### Notebook Walk-through\n",
        "\n",
        "In this notebook we will:\n",
        "- Choose our Agent's underline foundation model\n",
        "- Create a dynamoDB table to store the reservation details\n",
        "- Create a lambda function that handles the restaurant bookings\n",
        "- Create an agent\n",
        "- Create an action group and associate it with the agent\n",
        "- Test the agent invocation\n",
        "\n",
        "\n",
        "### Next Steps:\n",
        "In the next lab, we will add a Knowledge Base to our agent and work with Prompt Attributes to provide extra information to an agent invocation call\n"
      ]
    },
    {
      "cell_type": "markdown",
      "metadata": {
        "pycharm": {
          "name": "#%% md\n"
        },
        "id": "8VeAmJfFHEcp"
      },
      "source": [
        "### Pre-requisites\n",
        "This notebook requires permissions to:\n",
        "- create and delete Amazon IAM roles\n",
        "- create lambda functions\n",
        "- create dynamoDB tables\n",
        "- access Amazon Bedrock\n",
        "\n",
        "If running on SageMaker Studio, you should add the following managed policies to your role:\n",
        "- IAMFullAccess\n",
        "- AWSLambda_FullAccess\n",
        "- AmazonBedrockFullAccess\n",
        "- AmazonDynamoDBFullAccess\n",
        "\n",
        "<div class=\"alert alert-block alert-info\">\n",
        "<b>Note:</b> Please make sure to enable `Anthropic Claude 3 Sonnet` model access in Amazon Bedrock Console, as the notebook will use Anthropic Claude 3 Sonnet model for testing the agent once its created.\n",
        "</div>\n"
      ]
    },
    {
      "cell_type": "markdown",
      "metadata": {
        "pycharm": {
          "name": "#%% md\n"
        },
        "id": "gyqjbx5qHEcp"
      },
      "source": [
        "## Setup\n",
        "Before running the rest of this notebook, you'll need to run the cells below to ensure necessary libraries are installed"
      ]
    },
    {
      "cell_type": "code",
      "execution_count": 5,
      "metadata": {
        "pycharm": {
          "name": "#%%\n"
        },
        "id": "iR-cvvu-HEcq",
        "outputId": "7e9a7fc4-ee2f-43c3-abd0-6d2a6a335811",
        "colab": {
          "base_uri": "https://localhost:8080/"
        }
      },
      "outputs": [
        {
          "output_type": "stream",
          "name": "stdout",
          "text": [
            "Requirement already satisfied: boto3 in /usr/local/lib/python3.11/dist-packages (from -r requirements.txt (line 1)) (1.38.32)\n",
            "Requirement already satisfied: opensearch-py in /usr/local/lib/python3.11/dist-packages (from -r requirements.txt (line 2)) (2.8.0)\n",
            "Requirement already satisfied: botocore in /usr/local/lib/python3.11/dist-packages (from -r requirements.txt (line 3)) (1.38.32)\n",
            "Requirement already satisfied: awscli in /usr/local/lib/python3.11/dist-packages (from -r requirements.txt (line 4)) (1.40.31)\n",
            "Requirement already satisfied: retrying in /usr/local/lib/python3.11/dist-packages (from -r requirements.txt (line 5)) (1.3.4)\n",
            "Requirement already satisfied: jmespath<2.0.0,>=0.7.1 in /usr/local/lib/python3.11/dist-packages (from boto3->-r requirements.txt (line 1)) (1.0.1)\n",
            "Requirement already satisfied: s3transfer<0.14.0,>=0.13.0 in /usr/local/lib/python3.11/dist-packages (from boto3->-r requirements.txt (line 1)) (0.13.0)\n",
            "Requirement already satisfied: urllib3!=2.2.0,!=2.2.1,<3,>=1.26.19 in /usr/local/lib/python3.11/dist-packages (from opensearch-py->-r requirements.txt (line 2)) (2.4.0)\n",
            "Requirement already satisfied: requests<3.0.0,>=2.32.0 in /usr/local/lib/python3.11/dist-packages (from opensearch-py->-r requirements.txt (line 2)) (2.32.3)\n",
            "Requirement already satisfied: python-dateutil in /usr/local/lib/python3.11/dist-packages (from opensearch-py->-r requirements.txt (line 2)) (2.9.0.post0)\n",
            "Requirement already satisfied: certifi>=2024.07.04 in /usr/local/lib/python3.11/dist-packages (from opensearch-py->-r requirements.txt (line 2)) (2025.4.26)\n",
            "Requirement already satisfied: Events in /usr/local/lib/python3.11/dist-packages (from opensearch-py->-r requirements.txt (line 2)) (0.5)\n",
            "Requirement already satisfied: docutils<=0.19,>=0.18.1 in /usr/local/lib/python3.11/dist-packages (from awscli->-r requirements.txt (line 4)) (0.19)\n",
            "Requirement already satisfied: PyYAML<6.1,>=3.10 in /usr/local/lib/python3.11/dist-packages (from awscli->-r requirements.txt (line 4)) (6.0.2)\n",
            "Requirement already satisfied: colorama<0.4.7,>=0.2.5 in /usr/local/lib/python3.11/dist-packages (from awscli->-r requirements.txt (line 4)) (0.4.6)\n",
            "Requirement already satisfied: rsa<4.8,>=3.1.2 in /usr/local/lib/python3.11/dist-packages (from awscli->-r requirements.txt (line 4)) (4.7.2)\n",
            "Requirement already satisfied: six>=1.7.0 in /usr/local/lib/python3.11/dist-packages (from retrying->-r requirements.txt (line 5)) (1.17.0)\n",
            "Requirement already satisfied: charset-normalizer<4,>=2 in /usr/local/lib/python3.11/dist-packages (from requests<3.0.0,>=2.32.0->opensearch-py->-r requirements.txt (line 2)) (3.4.2)\n",
            "Requirement already satisfied: idna<4,>=2.5 in /usr/local/lib/python3.11/dist-packages (from requests<3.0.0,>=2.32.0->opensearch-py->-r requirements.txt (line 2)) (3.10)\n",
            "Requirement already satisfied: pyasn1>=0.1.3 in /usr/local/lib/python3.11/dist-packages (from rsa<4.8,>=3.1.2->awscli->-r requirements.txt (line 4)) (0.6.1)\n"
          ]
        }
      ],
      "source": [
        "!pip install --upgrade  -r requirements.txt"
      ]
    },
    {
      "cell_type": "markdown",
      "metadata": {
        "pycharm": {
          "name": "#%% md\n"
        },
        "id": "lzLDT8Y2HEcr"
      },
      "source": [
        "Let's now import the necessary libraries and initiate the required boto3 clients"
      ]
    },
    {
      "cell_type": "code",
      "execution_count": 11,
      "metadata": {
        "pycharm": {
          "name": "#%%\n"
        },
        "id": "VHnVn79OHEcr",
        "outputId": "8f3de7a6-e4a6-452e-ad0d-080608126ffd",
        "colab": {
          "base_uri": "https://localhost:8080/",
          "height": 366
        }
      },
      "outputs": [
        {
          "output_type": "error",
          "ename": "ImportError",
          "evalue": "cannot import name 'create_agent_role' from 'agent' (unknown location)",
          "traceback": [
            "\u001b[0;31m---------------------------------------------------------------------------\u001b[0m",
            "\u001b[0;31mImportError\u001b[0m                               Traceback (most recent call last)",
            "\u001b[0;32m<ipython-input-11-fb19d7c50865>\u001b[0m in \u001b[0;36m<cell line: 0>\u001b[0;34m()\u001b[0m\n\u001b[1;32m      5\u001b[0m \u001b[0;32mimport\u001b[0m \u001b[0muuid\u001b[0m\u001b[0;34m\u001b[0m\u001b[0;34m\u001b[0m\u001b[0m\n\u001b[1;32m      6\u001b[0m \u001b[0;34m\u001b[0m\u001b[0m\n\u001b[0;32m----> 7\u001b[0;31m \u001b[0;32mfrom\u001b[0m \u001b[0magent\u001b[0m \u001b[0;32mimport\u001b[0m \u001b[0mcreate_agent_role\u001b[0m\u001b[0;34m,\u001b[0m \u001b[0mcreate_lambda_role\u001b[0m\u001b[0;34m\u001b[0m\u001b[0;34m\u001b[0m\u001b[0m\n\u001b[0m\u001b[1;32m      8\u001b[0m \u001b[0;32mfrom\u001b[0m \u001b[0magent\u001b[0m \u001b[0;32mimport\u001b[0m \u001b[0mcreate_dynamodb\u001b[0m\u001b[0;34m,\u001b[0m \u001b[0mcreate_lambda\u001b[0m\u001b[0;34m,\u001b[0m \u001b[0minvoke_agent_helper\u001b[0m\u001b[0;34m\u001b[0m\u001b[0;34m\u001b[0m\u001b[0m\n",
            "\u001b[0;31mImportError\u001b[0m: cannot import name 'create_agent_role' from 'agent' (unknown location)",
            "",
            "\u001b[0;31m---------------------------------------------------------------------------\u001b[0;32m\nNOTE: If your import is failing due to a missing package, you can\nmanually install dependencies using either !pip or !apt.\n\nTo view examples of installing some common dependencies, click the\n\"Open Examples\" button below.\n\u001b[0;31m---------------------------------------------------------------------------\u001b[0m\n"
          ],
          "errorDetails": {
            "actions": [
              {
                "action": "open_url",
                "actionText": "Open Examples",
                "url": "/notebooks/snippets/importing_libraries.ipynb"
              }
            ]
          }
        }
      ],
      "source": [
        "import time\n",
        "import boto3\n",
        "import logging\n",
        "import ipywidgets as widgets\n",
        "import uuid\n",
        "\n",
        "from agent import create_agent_role, create_lambda_role\n",
        "from agent import create_dynamodb, create_lambda, invoke_agent_helper"
      ]
    },
    {
      "cell_type": "code",
      "execution_count": null,
      "metadata": {
        "pycharm": {
          "name": "#%%\n"
        },
        "id": "Z_cNMSSGHEcs"
      },
      "outputs": [],
      "source": [
        "#Clients\n",
        "s3_client = boto3.client('s3')\n",
        "sts_client = boto3.client('sts')\n",
        "session = boto3.session.Session()\n",
        "region = session.region_name\n",
        "account_id = sts_client.get_caller_identity()[\"Account\"]\n",
        "bedrock_agent_client = boto3.client('bedrock-agent')\n",
        "bedrock_agent_runtime_client = boto3.client('bedrock-agent-runtime')\n",
        "logging.basicConfig(format='[%(asctime)s] p%(process)s {%(filename)s:%(lineno)d} %(levelname)s - %(message)s', level=logging.INFO)\n",
        "logger = logging.getLogger(__name__)\n",
        "region, account_id"
      ]
    },
    {
      "cell_type": "markdown",
      "metadata": {
        "pycharm": {
          "name": "#%% md\n"
        },
        "id": "IzNbArXnHEcs"
      },
      "source": [
        "### Setting up Agent's information\n",
        "\n",
        "We will now set the variables that define our agent:\n",
        "\n",
        "- **agent_name**: provides the name of the agent to be created, in this case `booking-agent`\n",
        "- **agent_description**: the description of the agent used to display the agents list on the console. This description is **not** part of the agent's prompts\n",
        "- **agent_instruction**: the instructions of what the agent should and should not do. This description is part of the agent's prompt and is used during the agent's invocation\n",
        "- **agent_action_group_name**: the action group name used on the definition of the agent's action, in this case `TableBookingsActionGroup`.\n",
        "- **agent_action_group_description:**: the description of the action group name used on the UI to list the action groups. This description is **not** used by the agent's prompts"
      ]
    },
    {
      "cell_type": "code",
      "execution_count": null,
      "metadata": {
        "pycharm": {
          "name": "#%%\n"
        },
        "id": "qS1ULioxHEdp"
      },
      "outputs": [],
      "source": [
        "suffix = f\"{region}-{account_id}\"\n",
        "agent_name = 'booking-agent'\n",
        "agent_bedrock_allow_policy_name = f\"{agent_name}-ba\"\n",
        "agent_role_name = f'AmazonBedrockExecutionRoleForAgents_{agent_name}'\n",
        "\n",
        "agent_description = \"Agent in charge of a restaurants table bookings\"\n",
        "agent_instruction = \"\"\"\n",
        "You are a restaurant agent, helping clients retrieve information from their booking,\n",
        "create a new booking or delete an existing booking\n",
        "\"\"\"\n",
        "\n",
        "agent_action_group_description = \"\"\"\n",
        "Actions for getting table booking information, create a new booking or delete an existing booking\"\"\"\n",
        "\n",
        "agent_action_group_name = \"TableBookingsActionGroup\""
      ]
    },
    {
      "cell_type": "markdown",
      "metadata": {
        "pycharm": {
          "name": "#%% md\n"
        },
        "id": "M89GipsMHEdq"
      },
      "source": [
        "### Select Foundation Model\n",
        "Use this dropdown menu to select the underline model of your agent. You can find more information about the supported foundation models [here](https://docs.aws.amazon.com/bedrock/latest/userguide/agents-supported.html)"
      ]
    },
    {
      "cell_type": "code",
      "execution_count": 12,
      "metadata": {
        "pycharm": {
          "name": "#%%\n"
        },
        "id": "_QzdDdP2HEdq",
        "outputId": "9d45e45e-20a2-4505-96bd-25bf0c8212ca",
        "colab": {
          "base_uri": "https://localhost:8080/",
          "height": 49,
          "referenced_widgets": [
            "c9d1462e092d4d0993c12ce85525f94a",
            "275e55c08efe4e3787bc8492f8e0c610",
            "882101d3cde04a6a9333018a08b3f797"
          ]
        }
      },
      "outputs": [
        {
          "output_type": "display_data",
          "data": {
            "text/plain": [
              "Dropdown(description='FM:', options=(('Claude 3 Sonnet', 'anthropic.claude-3-sonnet-20240229-v1:0'), ('Claude …"
            ],
            "application/vnd.jupyter.widget-view+json": {
              "version_major": 2,
              "version_minor": 0,
              "model_id": "c9d1462e092d4d0993c12ce85525f94a"
            }
          },
          "metadata": {}
        }
      ],
      "source": [
        "agent_foundation_model_selector = widgets.Dropdown(\n",
        "    options=[\n",
        "        ('Claude 3 Sonnet', 'anthropic.claude-3-sonnet-20240229-v1:0'),\n",
        "        ('Claude 3 Haiku', 'anthropic.claude-3-haiku-20240307-v1:0')\n",
        "    ],\n",
        "    value='anthropic.claude-3-sonnet-20240229-v1:0',\n",
        "    description='FM:',\n",
        "    disabled=False,\n",
        ")\n",
        "agent_foundation_model_selector"
      ]
    },
    {
      "cell_type": "markdown",
      "metadata": {
        "pycharm": {
          "name": "#%% md\n"
        },
        "id": "56JR3W32HEdr"
      },
      "source": [
        "Let's confirm that the model has been selected correctly"
      ]
    },
    {
      "cell_type": "code",
      "execution_count": 13,
      "metadata": {
        "pycharm": {
          "name": "#%%\n"
        },
        "id": "an5mnZV8HEdr",
        "outputId": "6f4f33a9-16c4-4b4e-dbc2-7da0ac0fb1d5",
        "colab": {
          "base_uri": "https://localhost:8080/",
          "height": 35
        }
      },
      "outputs": [
        {
          "output_type": "execute_result",
          "data": {
            "text/plain": [
              "'anthropic.claude-3-sonnet-20240229-v1:0'"
            ],
            "application/vnd.google.colaboratory.intrinsic+json": {
              "type": "string"
            }
          },
          "metadata": {},
          "execution_count": 13
        }
      ],
      "source": [
        "agent_foundation_model = agent_foundation_model_selector.value\n",
        "agent_foundation_model"
      ]
    },
    {
      "cell_type": "code",
      "source": [],
      "metadata": {
        "id": "ovPSzu6W1bMb"
      },
      "execution_count": null,
      "outputs": []
    },
    {
      "cell_type": "markdown",
      "metadata": {
        "pycharm": {
          "name": "#%% md\n"
        },
        "id": "FsRlUIDRHEds"
      },
      "source": [
        "### Creating DynamoDB table\n",
        "\n",
        "Let's now create an [Amazon DynamoDB](https://aws.amazon.com/dynamodb/) table called `restaurant_bookings`. This table will store information about the reservations, including a `booking_id`, reservation `date`, the `name` of the person doing the reservation, the `hour` of the reservation and the number of guests as `num_guests`. To do so, we use the `create_dynamodb` function from the `agent.py` file. This function will support the creation of the table and its requirements (IAM roles and permissions)."
      ]
    },
    {
      "cell_type": "code",
      "execution_count": null,
      "metadata": {
        "pycharm": {
          "name": "#%%\n"
        },
        "id": "CgPtnKYgHEds"
      },
      "outputs": [],
      "source": [
        "table_name = 'restaurant_bookings'\n",
        "create_dynamodb(table_name)"
      ]
    },
    {
      "cell_type": "markdown",
      "metadata": {
        "pycharm": {
          "name": "#%% md\n"
        },
        "id": "5iZdMgUiHEds"
      },
      "source": [
        "### Creating Lambda Function\n",
        "\n",
        "Next we will create the [AWS Lambda](https://aws.amazon.com/lambda/) function that executes the actions for our agent. This lambda function will have 3 actions:\n",
        "* ```get_booking_details(booking_id)```: returns the details of a booking based on the booking id\n",
        "* ```create_booking(date, name, hour, num_guests)```: creates a new booking for the restaurant\n",
        "* ```delete_booking(booking_id)```: deletes an existent booking based on the booking id\n",
        "\n",
        "\n",
        "The `lambda_handler` receives the `event` from the agent and the `event` contains information about the `function` to be executed and its `parameters`.\n",
        "\n",
        "A `functionResponse` is returned by the lambda function with the response body having a `TEXT` field.\n",
        "\n",
        "You can find more information on how to set your agent lambda function [here](https://docs.aws.amazon.com/bedrock/latest/userguide/agents-lambda.html).\n",
        "\n",
        "Let's first write the code of the lambda function to the `lambda_function.py` file"
      ]
    },
    {
      "cell_type": "code",
      "execution_count": null,
      "metadata": {
        "pycharm": {
          "name": "#%%\n"
        },
        "id": "MVIlvvHXHEdt"
      },
      "outputs": [],
      "source": [
        "%%writefile lambda_function.py\n",
        "import json\n",
        "import uuid\n",
        "import boto3\n",
        "\n",
        "dynamodb = boto3.resource('dynamodb')\n",
        "table = dynamodb.Table('restaurant_bookings')\n",
        "\n",
        "def get_named_parameter(event, name):\n",
        "    \"\"\"\n",
        "    Get a parameter from the lambda event\n",
        "    \"\"\"\n",
        "    return next(item for item in event['parameters'] if item['name'] == name)['value']\n",
        "\n",
        "\n",
        "def get_booking_details(booking_id):\n",
        "    \"\"\"\n",
        "    Retrieve details of a restaurant booking\n",
        "\n",
        "    Args:\n",
        "        booking_id (string): The ID of the booking to retrieve\n",
        "    \"\"\"\n",
        "    try:\n",
        "        response = table.get_item(Key={'booking_id': booking_id})\n",
        "        if 'Item' in response:\n",
        "            return response['Item']\n",
        "        else:\n",
        "            return {'message': f'No booking found with ID {booking_id}'}\n",
        "    except Exception as e:\n",
        "        return {'error': str(e)}\n",
        "\n",
        "\n",
        "def create_booking(date, name, hour, num_guests):\n",
        "    \"\"\"\n",
        "    Create a new restaurant booking\n",
        "\n",
        "    Args:\n",
        "        date (string): The date of the booking\n",
        "        name (string): Name to idenfity your reservation\n",
        "        hour (string): The hour of the booking\n",
        "        num_guests (integer): The number of guests for the booking\n",
        "    \"\"\"\n",
        "    try:\n",
        "        booking_id = str(uuid.uuid4())[:8]\n",
        "        table.put_item(\n",
        "            Item={\n",
        "                'booking_id': booking_id,\n",
        "                'date': date,\n",
        "                'name': name,\n",
        "                'hour': hour,\n",
        "                'num_guests': num_guests\n",
        "            }\n",
        "        )\n",
        "        return {'booking_id': booking_id}\n",
        "    except Exception as e:\n",
        "        return {'error': str(e)}\n",
        "\n",
        "\n",
        "def delete_booking(booking_id):\n",
        "    \"\"\"\n",
        "    Delete an existing restaurant booking\n",
        "\n",
        "    Args:\n",
        "        booking_id (str): The ID of the booking to delete\n",
        "    \"\"\"\n",
        "    try:\n",
        "        response = table.delete_item(Key={'booking_id': booking_id})\n",
        "        if response['ResponseMetadata']['HTTPStatusCode'] == 200:\n",
        "            return {'message': f'Booking with ID {booking_id} deleted successfully'}\n",
        "        else:\n",
        "            return {'message': f'Failed to delete booking with ID {booking_id}'}\n",
        "    except Exception as e:\n",
        "        return {'error': str(e)}\n",
        "\n",
        "\n",
        "def lambda_handler(event, context):\n",
        "    # get the action group used during the invocation of the lambda function\n",
        "    actionGroup = event.get('actionGroup', '')\n",
        "\n",
        "    # name of the function that should be invoked\n",
        "    function = event.get('function', '')\n",
        "\n",
        "    # parameters to invoke function with\n",
        "    parameters = event.get('parameters', [])\n",
        "\n",
        "    if function == 'get_booking_details':\n",
        "        booking_id = get_named_parameter(event, \"booking_id\")\n",
        "        if booking_id:\n",
        "            response = str(get_booking_details(booking_id))\n",
        "            responseBody = {'TEXT': {'body': json.dumps(response)}}\n",
        "        else:\n",
        "            responseBody = {'TEXT': {'body': 'Missing booking_id parameter'}}\n",
        "\n",
        "    elif function == 'create_booking':\n",
        "        date = get_named_parameter(event, \"date\")\n",
        "        name = get_named_parameter(event, \"name\")\n",
        "        hour = get_named_parameter(event, \"hour\")\n",
        "        num_guests = get_named_parameter(event, \"num_guests\")\n",
        "\n",
        "        if date and hour and num_guests:\n",
        "            response = str(create_booking(date, name, hour, num_guests))\n",
        "            responseBody = {'TEXT': {'body': json.dumps(response)}}\n",
        "        else:\n",
        "            responseBody = {'TEXT': {'body': 'Missing required parameters'}}\n",
        "\n",
        "    elif function == 'delete_booking':\n",
        "        booking_id = get_named_parameter(event, \"booking_id\")\n",
        "        if booking_id:\n",
        "            response = str(delete_booking(booking_id))\n",
        "            responseBody = {'TEXT': {'body': json.dumps(response)}}\n",
        "        else:\n",
        "            responseBody = {'TEXT': {'body': 'Missing booking_id parameter'}}\n",
        "\n",
        "    else:\n",
        "        responseBody = {'TEXT': {'body': 'Invalid function'}}\n",
        "\n",
        "    action_response = {\n",
        "        'actionGroup': actionGroup,\n",
        "        'function': function,\n",
        "        'functionResponse': {\n",
        "            'responseBody': responseBody\n",
        "        }\n",
        "    }\n",
        "\n",
        "    function_response = {'response': action_response, 'messageVersion': event['messageVersion']}\n",
        "    print(\"Response: {}\".format(function_response))\n",
        "\n",
        "    return function_response"
      ]
    },
    {
      "cell_type": "markdown",
      "metadata": {
        "pycharm": {
          "name": "#%% md\n"
        },
        "id": "BfUAHWJJHEdt"
      },
      "source": [
        "Next we create the function requirements for IAM role and policies using the support function `create_lambda_role` and create the lambda using the support function `create_lambda` both from the `agent.py` file"
      ]
    },
    {
      "cell_type": "code",
      "execution_count": null,
      "metadata": {
        "pycharm": {
          "name": "#%%\n"
        },
        "id": "eG90fEWyHEdu"
      },
      "outputs": [],
      "source": [
        "lambda_iam_role = create_lambda_role(agent_name, table_name)"
      ]
    },
    {
      "cell_type": "code",
      "execution_count": null,
      "metadata": {
        "pycharm": {
          "name": "#%%\n"
        },
        "id": "VFAuyrszHEdu"
      },
      "outputs": [],
      "source": [
        "lambda_function_name = f'{agent_name}-lambda'"
      ]
    },
    {
      "cell_type": "code",
      "execution_count": null,
      "metadata": {
        "pycharm": {
          "name": "#%%\n"
        },
        "id": "eZ4NtyFoHEdu"
      },
      "outputs": [],
      "source": [
        "lambda_function = create_lambda(lambda_function_name, lambda_iam_role)"
      ]
    },
    {
      "cell_type": "markdown",
      "metadata": {
        "pycharm": {
          "name": "#%% md\n"
        },
        "id": "CwDHtkCLHEdv"
      },
      "source": [
        "### Creating Agent\n",
        "\n",
        "Now that we have created the dynamoDB table and lambda function, let's create our Agent.\n",
        "\n",
        "To do so, we first need to create an agent role and its required policies. Let's do so using the `create_agent_role` function from the `agent.py` file."
      ]
    },
    {
      "cell_type": "code",
      "execution_count": null,
      "metadata": {
        "pycharm": {
          "name": "#%%\n"
        },
        "id": "bXU4i3-cHEdv"
      },
      "outputs": [],
      "source": [
        "agent_role = create_agent_role(agent_name, agent_foundation_model)"
      ]
    },
    {
      "cell_type": "code",
      "execution_count": null,
      "metadata": {
        "pycharm": {
          "name": "#%%\n"
        },
        "id": "6eKVLGwXHEdv"
      },
      "outputs": [],
      "source": [
        "agent_role"
      ]
    },
    {
      "cell_type": "markdown",
      "metadata": {
        "pycharm": {
          "name": "#%% md\n"
        },
        "id": "UCJO-uW7HEdv"
      },
      "source": [
        "With the Agent IAM role created, we can now use the boto3 function [`create_agent`](https://boto3.amazonaws.com/v1/documentation/api/latest/reference/services/bedrock-agent/client/create_agent.html) to create our agent.\n",
        "\n",
        "On the agent creation, all you need to provide is the agent name, foundation model and instruction. We will associate an action group to the agent once it has been created"
      ]
    },
    {
      "cell_type": "code",
      "execution_count": null,
      "metadata": {
        "pycharm": {
          "name": "#%%\n"
        },
        "id": "bXlZA-chHEdw"
      },
      "outputs": [],
      "source": [
        "response = bedrock_agent_client.create_agent(\n",
        "    agentName=agent_name,\n",
        "    agentResourceRoleArn=agent_role['Role']['Arn'],\n",
        "    description=agent_description,\n",
        "    idleSessionTTLInSeconds=1800,\n",
        "    foundationModel=agent_foundation_model,\n",
        "    instruction=agent_instruction,\n",
        ")\n",
        "response"
      ]
    },
    {
      "cell_type": "markdown",
      "metadata": {
        "pycharm": {
          "name": "#%% md\n"
        },
        "id": "OXOAAzsTHEdw"
      },
      "source": [
        "Now that our agent has been created, we will retrieve the `agentId`. It will be used to associate the action group to the agent in our next step."
      ]
    },
    {
      "cell_type": "code",
      "execution_count": null,
      "metadata": {
        "pycharm": {
          "name": "#%%\n"
        },
        "id": "VBaRp06zHEdw"
      },
      "outputs": [],
      "source": [
        "agent_id = response['agent']['agentId']\n",
        "print(\"The agent id is:\",agent_id)"
      ]
    },
    {
      "cell_type": "markdown",
      "metadata": {
        "pycharm": {
          "name": "#%% md\n"
        },
        "id": "kDu-CoFhHEdw"
      },
      "source": [
        "#### Create Agent Action Group\n",
        "\n",
        "now that we have created the agent, let's create an [Action Group](https://docs.aws.amazon.com/bedrock/latest/userguide/agents-action-create.html) and associate with the agent. The action group will allow our agent to execute the booking tasks. To do so, we will \"inform\" our agent about the existent functionalities using a [function schema](https://docs.aws.amazon.com/bedrock/latest/userguide/agents-action-function.html) defined in `JSON` format.\n",
        "\n",
        "The function schema requires the function `name`, `description` and `parameters` to be provided. Each parameter has a parameter name, description, type and a boolean flag indicating if the parameter is required.\n",
        "\n",
        "Let's define the functions `JSON` as `agent_functions`"
      ]
    },
    {
      "cell_type": "code",
      "execution_count": null,
      "metadata": {
        "pycharm": {
          "name": "#%%\n"
        },
        "id": "4qZWkwQSHEdx"
      },
      "outputs": [],
      "source": [
        "agent_functions = [\n",
        "    {\n",
        "        'name': 'get_booking_details',\n",
        "        'description': 'Retrieve details of a restaurant booking',\n",
        "        'parameters': {\n",
        "            \"booking_id\": {\n",
        "                \"description\": \"The ID of the booking to retrieve\",\n",
        "                \"required\": True,\n",
        "                \"type\": \"string\"\n",
        "            }\n",
        "        }\n",
        "    },\n",
        "    {\n",
        "        'name': 'create_booking',\n",
        "        'description': 'Create a new restaurant booking',\n",
        "        'parameters': {\n",
        "            \"date\": {\n",
        "                \"description\": \"The date of the booking in the format YYYY-MM-DD\",\n",
        "                \"required\": True,\n",
        "                \"type\": \"string\"\n",
        "            },\n",
        "            \"name\": {\n",
        "                \"description\": \"Name to idenfity your reservation\",\n",
        "                \"required\": True,\n",
        "                \"type\": \"string\"\n",
        "            },\n",
        "            \"hour\": {\n",
        "                \"description\": \"The hour of the booking in the format HH:MM\",\n",
        "                \"required\": True,\n",
        "                \"type\": \"string\"\n",
        "            },\n",
        "            \"num_guests\": {\n",
        "                \"description\": \"The number of guests for the booking\",\n",
        "                \"required\": True,\n",
        "                \"type\": \"integer\"\n",
        "            }\n",
        "        }\n",
        "    },\n",
        "    {\n",
        "        'name': 'delete_booking',\n",
        "        'description': 'Delete an existing restaurant booking',\n",
        "        'parameters': {\n",
        "            \"booking_id\": {\n",
        "                \"description\": \"The ID of the booking to delete\",\n",
        "                \"required\": True,\n",
        "                \"type\": \"string\"\n",
        "            }\n",
        "        }\n",
        "    },\n",
        "]"
      ]
    },
    {
      "cell_type": "markdown",
      "metadata": {
        "pycharm": {
          "name": "#%% md\n"
        },
        "id": "af5t9wIPHEdx"
      },
      "source": [
        "Now we can use the [`create_agent_action_group`](https://boto3.amazonaws.com/v1/documentation/api/latest/reference/services/bedrock-agent/client/create_agent_action_group.html) function from the boto3 SDK to create the action group"
      ]
    },
    {
      "cell_type": "code",
      "execution_count": null,
      "metadata": {
        "pycharm": {
          "name": "#%%\n"
        },
        "id": "l7uiZGLWHEdy"
      },
      "outputs": [],
      "source": [
        "# Pause to make sure agent is created\n",
        "time.sleep(30)\n",
        "\n",
        "# Now, we can configure and create an action group here:\n",
        "agent_action_group_response = bedrock_agent_client.create_agent_action_group(\n",
        "    agentId=agent_id,\n",
        "    agentVersion='DRAFT',\n",
        "    actionGroupExecutor={\n",
        "        'lambda': lambda_function['FunctionArn']\n",
        "    },\n",
        "    actionGroupName=agent_action_group_name,\n",
        "    functionSchema={\n",
        "        'functions': agent_functions\n",
        "    },\n",
        "    description=agent_action_group_description\n",
        ")"
      ]
    },
    {
      "cell_type": "code",
      "execution_count": null,
      "metadata": {
        "pycharm": {
          "name": "#%%\n"
        },
        "id": "WfaHGgnOHEdy"
      },
      "outputs": [],
      "source": [
        "agent_action_group_response"
      ]
    },
    {
      "cell_type": "markdown",
      "metadata": {
        "pycharm": {
          "name": "#%% md\n"
        },
        "id": "cHe-lcAdHEdy"
      },
      "source": [
        "#### Allowing bedrock to invoke lambda function\n",
        "\n",
        "The last requirement is to add the [resource-based policy](https://docs.aws.amazon.com/bedrock/latest/userguide/agents-permissions.html#agents-permissions-lambda) to allow bedrock to invoke the action group lambda function."
      ]
    },
    {
      "cell_type": "code",
      "execution_count": null,
      "metadata": {
        "pycharm": {
          "name": "#%%\n"
        },
        "id": "jOKtfJIGHEdy"
      },
      "outputs": [],
      "source": [
        "# Create allow to invoke permission on lambda\n",
        "lambda_client = boto3.client('lambda')\n",
        "try:\n",
        "    response = lambda_client.add_permission(\n",
        "        FunctionName=lambda_function_name,\n",
        "        StatementId=f'allow_bedrock_{agent_id}',\n",
        "        Action='lambda:InvokeFunction',\n",
        "        Principal='bedrock.amazonaws.com',\n",
        "        SourceArn=f\"arn:aws:bedrock:{region}:{account_id}:agent/{agent_id}\",\n",
        "    )\n",
        "    print(response)\n",
        "except Exception as e:\n",
        "    print(e)"
      ]
    },
    {
      "cell_type": "markdown",
      "metadata": {
        "pycharm": {
          "name": "#%% md\n"
        },
        "id": "dq_U5XUiHEdz"
      },
      "source": [
        "#### Preparing agent\n",
        "\n",
        "Before invoking the agent we need to prepare it. Preparing your agent will package all its components, including the security configurations. It will bring the agent into a state where it can be tested in runtime. We will use the [`prepare_agent`](https://boto3.amazonaws.com/v1/documentation/api/latest/reference/services/bedrock-agent/client/prepare_agent.html) function from the boto3 sdk to prepare our agent."
      ]
    },
    {
      "cell_type": "code",
      "execution_count": null,
      "metadata": {
        "pycharm": {
          "name": "#%%\n"
        },
        "id": "cUF55bFqHEdz"
      },
      "outputs": [],
      "source": [
        "response = bedrock_agent_client.prepare_agent(\n",
        "    agentId=agent_id\n",
        ")\n",
        "print(response)\n",
        "# Pause to make sure agent is prepared\n",
        "time.sleep(30)"
      ]
    },
    {
      "cell_type": "markdown",
      "metadata": {
        "pycharm": {
          "name": "#%% md\n"
        },
        "id": "z6_KQhmuHEdz"
      },
      "source": [
        "### Invoking Agent\n",
        "\n",
        "Now that our Agent is ready to be used, let's test it. To do so we will use the [`invoke_agent`](https://boto3.amazonaws.com/v1/documentation/api/latest/reference/services/bedrock-agent-runtime/client/invoke_agent.html) function from the boto3 Bedrock runtime client.\n",
        "\n",
        "To invoke an agent, you have to refer to its alias. You can create a new alias, or you can use the test alias to invoke your `DRAFT` agent. The test alias used to invoke the draft agent is `TSTALIASID` and it will work with any agent.\n",
        "\n",
        "\n",
        "We will use the support function called `invoke_agent_helper` from the `agents.py` support file to allow us to invoke the agent with or without trace enabled and with or without session state. We will getinto more details about those concepts in the `03_invoke_agent.ipynb` notebook."
      ]
    },
    {
      "cell_type": "code",
      "execution_count": null,
      "metadata": {
        "pycharm": {
          "name": "#%%\n"
        },
        "id": "2ecJczVzHEd0"
      },
      "outputs": [],
      "source": [
        "alias_id = 'TSTALIASID'"
      ]
    },
    {
      "cell_type": "code",
      "execution_count": null,
      "metadata": {
        "pycharm": {
          "name": "#%%\n"
        },
        "id": "ggZw-miXHEd0"
      },
      "outputs": [],
      "source": [
        "%%time\n",
        "session_id:str = str(uuid.uuid1())\n",
        "query = \"Hi, I am Anna. I want to create a booking for 2 people, at 8pm on the 5th of May 2024.\"\n",
        "response = invoke_agent_helper(query, session_id, agent_id, alias_id)\n",
        "print(response)"
      ]
    },
    {
      "cell_type": "markdown",
      "metadata": {
        "pycharm": {
          "name": "#%% md\n"
        },
        "id": "tSgUm23UHEd1"
      },
      "source": [
        "### Next Steps\n",
        "\n",
        "Before moving to the next notebook, let's store a couple of variables to continue working the the same notebook.\n",
        "\n",
        "Next we will update our agent to associate a knowledge base containing the menus for our restaurant. We will then test the agent invocations and clean up all the created resources."
      ]
    },
    {
      "cell_type": "code",
      "execution_count": null,
      "metadata": {
        "pycharm": {
          "name": "#%%\n"
        },
        "tags": [],
        "id": "ABXSA8MxHEd1"
      },
      "outputs": [],
      "source": [
        "%store agent_id\n",
        "%store agent_role\n",
        "%store lambda_iam_role\n",
        "%store agent_name\n",
        "%store suffix\n",
        "%store region\n",
        "%store agent_foundation_model\n",
        "%store account_id\n",
        "%store alias_id\n",
        "%store table_name\n",
        "%store lambda_function\n",
        "%store lambda_function_name\n",
        "%store agent_action_group_response\n",
        "%store agent_functions"
      ]
    }
  ],
  "metadata": {
    "availableInstances": [
      {
        "_defaultOrder": 0,
        "_isFastLaunch": true,
        "category": "General purpose",
        "gpuNum": 0,
        "hideHardwareSpecs": false,
        "memoryGiB": 4,
        "name": "ml.t3.medium",
        "vcpuNum": 2
      },
      {
        "_defaultOrder": 1,
        "_isFastLaunch": false,
        "category": "General purpose",
        "gpuNum": 0,
        "hideHardwareSpecs": false,
        "memoryGiB": 8,
        "name": "ml.t3.large",
        "vcpuNum": 2
      },
      {
        "_defaultOrder": 2,
        "_isFastLaunch": false,
        "category": "General purpose",
        "gpuNum": 0,
        "hideHardwareSpecs": false,
        "memoryGiB": 16,
        "name": "ml.t3.xlarge",
        "vcpuNum": 4
      },
      {
        "_defaultOrder": 3,
        "_isFastLaunch": false,
        "category": "General purpose",
        "gpuNum": 0,
        "hideHardwareSpecs": false,
        "memoryGiB": 32,
        "name": "ml.t3.2xlarge",
        "vcpuNum": 8
      },
      {
        "_defaultOrder": 4,
        "_isFastLaunch": true,
        "category": "General purpose",
        "gpuNum": 0,
        "hideHardwareSpecs": false,
        "memoryGiB": 8,
        "name": "ml.m5.large",
        "vcpuNum": 2
      },
      {
        "_defaultOrder": 5,
        "_isFastLaunch": false,
        "category": "General purpose",
        "gpuNum": 0,
        "hideHardwareSpecs": false,
        "memoryGiB": 16,
        "name": "ml.m5.xlarge",
        "vcpuNum": 4
      },
      {
        "_defaultOrder": 6,
        "_isFastLaunch": false,
        "category": "General purpose",
        "gpuNum": 0,
        "hideHardwareSpecs": false,
        "memoryGiB": 32,
        "name": "ml.m5.2xlarge",
        "vcpuNum": 8
      },
      {
        "_defaultOrder": 7,
        "_isFastLaunch": false,
        "category": "General purpose",
        "gpuNum": 0,
        "hideHardwareSpecs": false,
        "memoryGiB": 64,
        "name": "ml.m5.4xlarge",
        "vcpuNum": 16
      },
      {
        "_defaultOrder": 8,
        "_isFastLaunch": false,
        "category": "General purpose",
        "gpuNum": 0,
        "hideHardwareSpecs": false,
        "memoryGiB": 128,
        "name": "ml.m5.8xlarge",
        "vcpuNum": 32
      },
      {
        "_defaultOrder": 9,
        "_isFastLaunch": false,
        "category": "General purpose",
        "gpuNum": 0,
        "hideHardwareSpecs": false,
        "memoryGiB": 192,
        "name": "ml.m5.12xlarge",
        "vcpuNum": 48
      },
      {
        "_defaultOrder": 10,
        "_isFastLaunch": false,
        "category": "General purpose",
        "gpuNum": 0,
        "hideHardwareSpecs": false,
        "memoryGiB": 256,
        "name": "ml.m5.16xlarge",
        "vcpuNum": 64
      },
      {
        "_defaultOrder": 11,
        "_isFastLaunch": false,
        "category": "General purpose",
        "gpuNum": 0,
        "hideHardwareSpecs": false,
        "memoryGiB": 384,
        "name": "ml.m5.24xlarge",
        "vcpuNum": 96
      },
      {
        "_defaultOrder": 12,
        "_isFastLaunch": false,
        "category": "General purpose",
        "gpuNum": 0,
        "hideHardwareSpecs": false,
        "memoryGiB": 8,
        "name": "ml.m5d.large",
        "vcpuNum": 2
      },
      {
        "_defaultOrder": 13,
        "_isFastLaunch": false,
        "category": "General purpose",
        "gpuNum": 0,
        "hideHardwareSpecs": false,
        "memoryGiB": 16,
        "name": "ml.m5d.xlarge",
        "vcpuNum": 4
      },
      {
        "_defaultOrder": 14,
        "_isFastLaunch": false,
        "category": "General purpose",
        "gpuNum": 0,
        "hideHardwareSpecs": false,
        "memoryGiB": 32,
        "name": "ml.m5d.2xlarge",
        "vcpuNum": 8
      },
      {
        "_defaultOrder": 15,
        "_isFastLaunch": false,
        "category": "General purpose",
        "gpuNum": 0,
        "hideHardwareSpecs": false,
        "memoryGiB": 64,
        "name": "ml.m5d.4xlarge",
        "vcpuNum": 16
      },
      {
        "_defaultOrder": 16,
        "_isFastLaunch": false,
        "category": "General purpose",
        "gpuNum": 0,
        "hideHardwareSpecs": false,
        "memoryGiB": 128,
        "name": "ml.m5d.8xlarge",
        "vcpuNum": 32
      },
      {
        "_defaultOrder": 17,
        "_isFastLaunch": false,
        "category": "General purpose",
        "gpuNum": 0,
        "hideHardwareSpecs": false,
        "memoryGiB": 192,
        "name": "ml.m5d.12xlarge",
        "vcpuNum": 48
      },
      {
        "_defaultOrder": 18,
        "_isFastLaunch": false,
        "category": "General purpose",
        "gpuNum": 0,
        "hideHardwareSpecs": false,
        "memoryGiB": 256,
        "name": "ml.m5d.16xlarge",
        "vcpuNum": 64
      },
      {
        "_defaultOrder": 19,
        "_isFastLaunch": false,
        "category": "General purpose",
        "gpuNum": 0,
        "hideHardwareSpecs": false,
        "memoryGiB": 384,
        "name": "ml.m5d.24xlarge",
        "vcpuNum": 96
      },
      {
        "_defaultOrder": 20,
        "_isFastLaunch": false,
        "category": "General purpose",
        "gpuNum": 0,
        "hideHardwareSpecs": true,
        "memoryGiB": 0,
        "name": "ml.geospatial.interactive",
        "supportedImageNames": [
          "sagemaker-geospatial-v1-0"
        ],
        "vcpuNum": 0
      },
      {
        "_defaultOrder": 21,
        "_isFastLaunch": true,
        "category": "Compute optimized",
        "gpuNum": 0,
        "hideHardwareSpecs": false,
        "memoryGiB": 4,
        "name": "ml.c5.large",
        "vcpuNum": 2
      },
      {
        "_defaultOrder": 22,
        "_isFastLaunch": false,
        "category": "Compute optimized",
        "gpuNum": 0,
        "hideHardwareSpecs": false,
        "memoryGiB": 8,
        "name": "ml.c5.xlarge",
        "vcpuNum": 4
      },
      {
        "_defaultOrder": 23,
        "_isFastLaunch": false,
        "category": "Compute optimized",
        "gpuNum": 0,
        "hideHardwareSpecs": false,
        "memoryGiB": 16,
        "name": "ml.c5.2xlarge",
        "vcpuNum": 8
      },
      {
        "_defaultOrder": 24,
        "_isFastLaunch": false,
        "category": "Compute optimized",
        "gpuNum": 0,
        "hideHardwareSpecs": false,
        "memoryGiB": 32,
        "name": "ml.c5.4xlarge",
        "vcpuNum": 16
      },
      {
        "_defaultOrder": 25,
        "_isFastLaunch": false,
        "category": "Compute optimized",
        "gpuNum": 0,
        "hideHardwareSpecs": false,
        "memoryGiB": 72,
        "name": "ml.c5.9xlarge",
        "vcpuNum": 36
      },
      {
        "_defaultOrder": 26,
        "_isFastLaunch": false,
        "category": "Compute optimized",
        "gpuNum": 0,
        "hideHardwareSpecs": false,
        "memoryGiB": 96,
        "name": "ml.c5.12xlarge",
        "vcpuNum": 48
      },
      {
        "_defaultOrder": 27,
        "_isFastLaunch": false,
        "category": "Compute optimized",
        "gpuNum": 0,
        "hideHardwareSpecs": false,
        "memoryGiB": 144,
        "name": "ml.c5.18xlarge",
        "vcpuNum": 72
      },
      {
        "_defaultOrder": 28,
        "_isFastLaunch": false,
        "category": "Compute optimized",
        "gpuNum": 0,
        "hideHardwareSpecs": false,
        "memoryGiB": 192,
        "name": "ml.c5.24xlarge",
        "vcpuNum": 96
      },
      {
        "_defaultOrder": 29,
        "_isFastLaunch": true,
        "category": "Accelerated computing",
        "gpuNum": 1,
        "hideHardwareSpecs": false,
        "memoryGiB": 16,
        "name": "ml.g4dn.xlarge",
        "vcpuNum": 4
      },
      {
        "_defaultOrder": 30,
        "_isFastLaunch": false,
        "category": "Accelerated computing",
        "gpuNum": 1,
        "hideHardwareSpecs": false,
        "memoryGiB": 32,
        "name": "ml.g4dn.2xlarge",
        "vcpuNum": 8
      },
      {
        "_defaultOrder": 31,
        "_isFastLaunch": false,
        "category": "Accelerated computing",
        "gpuNum": 1,
        "hideHardwareSpecs": false,
        "memoryGiB": 64,
        "name": "ml.g4dn.4xlarge",
        "vcpuNum": 16
      },
      {
        "_defaultOrder": 32,
        "_isFastLaunch": false,
        "category": "Accelerated computing",
        "gpuNum": 1,
        "hideHardwareSpecs": false,
        "memoryGiB": 128,
        "name": "ml.g4dn.8xlarge",
        "vcpuNum": 32
      },
      {
        "_defaultOrder": 33,
        "_isFastLaunch": false,
        "category": "Accelerated computing",
        "gpuNum": 4,
        "hideHardwareSpecs": false,
        "memoryGiB": 192,
        "name": "ml.g4dn.12xlarge",
        "vcpuNum": 48
      },
      {
        "_defaultOrder": 34,
        "_isFastLaunch": false,
        "category": "Accelerated computing",
        "gpuNum": 1,
        "hideHardwareSpecs": false,
        "memoryGiB": 256,
        "name": "ml.g4dn.16xlarge",
        "vcpuNum": 64
      },
      {
        "_defaultOrder": 35,
        "_isFastLaunch": false,
        "category": "Accelerated computing",
        "gpuNum": 1,
        "hideHardwareSpecs": false,
        "memoryGiB": 61,
        "name": "ml.p3.2xlarge",
        "vcpuNum": 8
      },
      {
        "_defaultOrder": 36,
        "_isFastLaunch": false,
        "category": "Accelerated computing",
        "gpuNum": 4,
        "hideHardwareSpecs": false,
        "memoryGiB": 244,
        "name": "ml.p3.8xlarge",
        "vcpuNum": 32
      },
      {
        "_defaultOrder": 37,
        "_isFastLaunch": false,
        "category": "Accelerated computing",
        "gpuNum": 8,
        "hideHardwareSpecs": false,
        "memoryGiB": 488,
        "name": "ml.p3.16xlarge",
        "vcpuNum": 64
      },
      {
        "_defaultOrder": 38,
        "_isFastLaunch": false,
        "category": "Accelerated computing",
        "gpuNum": 8,
        "hideHardwareSpecs": false,
        "memoryGiB": 768,
        "name": "ml.p3dn.24xlarge",
        "vcpuNum": 96
      },
      {
        "_defaultOrder": 39,
        "_isFastLaunch": false,
        "category": "Memory Optimized",
        "gpuNum": 0,
        "hideHardwareSpecs": false,
        "memoryGiB": 16,
        "name": "ml.r5.large",
        "vcpuNum": 2
      },
      {
        "_defaultOrder": 40,
        "_isFastLaunch": false,
        "category": "Memory Optimized",
        "gpuNum": 0,
        "hideHardwareSpecs": false,
        "memoryGiB": 32,
        "name": "ml.r5.xlarge",
        "vcpuNum": 4
      },
      {
        "_defaultOrder": 41,
        "_isFastLaunch": false,
        "category": "Memory Optimized",
        "gpuNum": 0,
        "hideHardwareSpecs": false,
        "memoryGiB": 64,
        "name": "ml.r5.2xlarge",
        "vcpuNum": 8
      },
      {
        "_defaultOrder": 42,
        "_isFastLaunch": false,
        "category": "Memory Optimized",
        "gpuNum": 0,
        "hideHardwareSpecs": false,
        "memoryGiB": 128,
        "name": "ml.r5.4xlarge",
        "vcpuNum": 16
      },
      {
        "_defaultOrder": 43,
        "_isFastLaunch": false,
        "category": "Memory Optimized",
        "gpuNum": 0,
        "hideHardwareSpecs": false,
        "memoryGiB": 256,
        "name": "ml.r5.8xlarge",
        "vcpuNum": 32
      },
      {
        "_defaultOrder": 44,
        "_isFastLaunch": false,
        "category": "Memory Optimized",
        "gpuNum": 0,
        "hideHardwareSpecs": false,
        "memoryGiB": 384,
        "name": "ml.r5.12xlarge",
        "vcpuNum": 48
      },
      {
        "_defaultOrder": 45,
        "_isFastLaunch": false,
        "category": "Memory Optimized",
        "gpuNum": 0,
        "hideHardwareSpecs": false,
        "memoryGiB": 512,
        "name": "ml.r5.16xlarge",
        "vcpuNum": 64
      },
      {
        "_defaultOrder": 46,
        "_isFastLaunch": false,
        "category": "Memory Optimized",
        "gpuNum": 0,
        "hideHardwareSpecs": false,
        "memoryGiB": 768,
        "name": "ml.r5.24xlarge",
        "vcpuNum": 96
      },
      {
        "_defaultOrder": 47,
        "_isFastLaunch": false,
        "category": "Accelerated computing",
        "gpuNum": 1,
        "hideHardwareSpecs": false,
        "memoryGiB": 16,
        "name": "ml.g5.xlarge",
        "vcpuNum": 4
      },
      {
        "_defaultOrder": 48,
        "_isFastLaunch": false,
        "category": "Accelerated computing",
        "gpuNum": 1,
        "hideHardwareSpecs": false,
        "memoryGiB": 32,
        "name": "ml.g5.2xlarge",
        "vcpuNum": 8
      },
      {
        "_defaultOrder": 49,
        "_isFastLaunch": false,
        "category": "Accelerated computing",
        "gpuNum": 1,
        "hideHardwareSpecs": false,
        "memoryGiB": 64,
        "name": "ml.g5.4xlarge",
        "vcpuNum": 16
      },
      {
        "_defaultOrder": 50,
        "_isFastLaunch": false,
        "category": "Accelerated computing",
        "gpuNum": 1,
        "hideHardwareSpecs": false,
        "memoryGiB": 128,
        "name": "ml.g5.8xlarge",
        "vcpuNum": 32
      },
      {
        "_defaultOrder": 51,
        "_isFastLaunch": false,
        "category": "Accelerated computing",
        "gpuNum": 1,
        "hideHardwareSpecs": false,
        "memoryGiB": 256,
        "name": "ml.g5.16xlarge",
        "vcpuNum": 64
      },
      {
        "_defaultOrder": 52,
        "_isFastLaunch": false,
        "category": "Accelerated computing",
        "gpuNum": 4,
        "hideHardwareSpecs": false,
        "memoryGiB": 192,
        "name": "ml.g5.12xlarge",
        "vcpuNum": 48
      },
      {
        "_defaultOrder": 53,
        "_isFastLaunch": false,
        "category": "Accelerated computing",
        "gpuNum": 4,
        "hideHardwareSpecs": false,
        "memoryGiB": 384,
        "name": "ml.g5.24xlarge",
        "vcpuNum": 96
      },
      {
        "_defaultOrder": 54,
        "_isFastLaunch": false,
        "category": "Accelerated computing",
        "gpuNum": 8,
        "hideHardwareSpecs": false,
        "memoryGiB": 768,
        "name": "ml.g5.48xlarge",
        "vcpuNum": 192
      },
      {
        "_defaultOrder": 55,
        "_isFastLaunch": false,
        "category": "Accelerated computing",
        "gpuNum": 8,
        "hideHardwareSpecs": false,
        "memoryGiB": 1152,
        "name": "ml.p4d.24xlarge",
        "vcpuNum": 96
      },
      {
        "_defaultOrder": 56,
        "_isFastLaunch": false,
        "category": "Accelerated computing",
        "gpuNum": 8,
        "hideHardwareSpecs": false,
        "memoryGiB": 1152,
        "name": "ml.p4de.24xlarge",
        "vcpuNum": 96
      },
      {
        "_defaultOrder": 57,
        "_isFastLaunch": false,
        "category": "Accelerated computing",
        "gpuNum": 0,
        "hideHardwareSpecs": false,
        "memoryGiB": 32,
        "name": "ml.trn1.2xlarge",
        "vcpuNum": 8
      },
      {
        "_defaultOrder": 58,
        "_isFastLaunch": false,
        "category": "Accelerated computing",
        "gpuNum": 0,
        "hideHardwareSpecs": false,
        "memoryGiB": 512,
        "name": "ml.trn1.32xlarge",
        "vcpuNum": 128
      },
      {
        "_defaultOrder": 59,
        "_isFastLaunch": false,
        "category": "Accelerated computing",
        "gpuNum": 0,
        "hideHardwareSpecs": false,
        "memoryGiB": 512,
        "name": "ml.trn1n.32xlarge",
        "vcpuNum": 128
      }
    ],
    "instance_type": "ml.t3.medium",
    "kernelspec": {
      "display_name": "Python 3 (ipykernel)",
      "language": "python",
      "name": "python3"
    },
    "language_info": {
      "codemirror_mode": {
        "name": "ipython",
        "version": 3
      },
      "file_extension": ".py",
      "mimetype": "text/x-python",
      "name": "python",
      "nbconvert_exporter": "python",
      "pygments_lexer": "ipython3",
      "version": "3.11.11"
    },
    "colab": {
      "provenance": []
    },
    "widgets": {
      "application/vnd.jupyter.widget-state+json": {
        "c9d1462e092d4d0993c12ce85525f94a": {
          "model_module": "@jupyter-widgets/controls",
          "model_name": "DropdownModel",
          "model_module_version": "1.5.0",
          "state": {
            "_dom_classes": [],
            "_model_module": "@jupyter-widgets/controls",
            "_model_module_version": "1.5.0",
            "_model_name": "DropdownModel",
            "_options_labels": [
              "Claude 3 Sonnet",
              "Claude 3 Haiku"
            ],
            "_view_count": null,
            "_view_module": "@jupyter-widgets/controls",
            "_view_module_version": "1.5.0",
            "_view_name": "DropdownView",
            "description": "FM:",
            "description_tooltip": null,
            "disabled": false,
            "index": 0,
            "layout": "IPY_MODEL_275e55c08efe4e3787bc8492f8e0c610",
            "style": "IPY_MODEL_882101d3cde04a6a9333018a08b3f797"
          }
        },
        "275e55c08efe4e3787bc8492f8e0c610": {
          "model_module": "@jupyter-widgets/base",
          "model_name": "LayoutModel",
          "model_module_version": "1.2.0",
          "state": {
            "_model_module": "@jupyter-widgets/base",
            "_model_module_version": "1.2.0",
            "_model_name": "LayoutModel",
            "_view_count": null,
            "_view_module": "@jupyter-widgets/base",
            "_view_module_version": "1.2.0",
            "_view_name": "LayoutView",
            "align_content": null,
            "align_items": null,
            "align_self": null,
            "border": null,
            "bottom": null,
            "display": null,
            "flex": null,
            "flex_flow": null,
            "grid_area": null,
            "grid_auto_columns": null,
            "grid_auto_flow": null,
            "grid_auto_rows": null,
            "grid_column": null,
            "grid_gap": null,
            "grid_row": null,
            "grid_template_areas": null,
            "grid_template_columns": null,
            "grid_template_rows": null,
            "height": null,
            "justify_content": null,
            "justify_items": null,
            "left": null,
            "margin": null,
            "max_height": null,
            "max_width": null,
            "min_height": null,
            "min_width": null,
            "object_fit": null,
            "object_position": null,
            "order": null,
            "overflow": null,
            "overflow_x": null,
            "overflow_y": null,
            "padding": null,
            "right": null,
            "top": null,
            "visibility": null,
            "width": null
          }
        },
        "882101d3cde04a6a9333018a08b3f797": {
          "model_module": "@jupyter-widgets/controls",
          "model_name": "DescriptionStyleModel",
          "model_module_version": "1.5.0",
          "state": {
            "_model_module": "@jupyter-widgets/controls",
            "_model_module_version": "1.5.0",
            "_model_name": "DescriptionStyleModel",
            "_view_count": null,
            "_view_module": "@jupyter-widgets/base",
            "_view_module_version": "1.2.0",
            "_view_name": "StyleView",
            "description_width": ""
          }
        }
      }
    }
  },
  "nbformat": 4,
  "nbformat_minor": 0
}